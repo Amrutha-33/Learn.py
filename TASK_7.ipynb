{
  "nbformat": 4,
  "nbformat_minor": 0,
  "metadata": {
    "colab": {
      "name": "TASK  7.ipynb",
      "provenance": []
    },
    "kernelspec": {
      "name": "python3",
      "display_name": "Python 3"
    },
    "language_info": {
      "name": "python"
    }
  },
  "cells": [
    {
      "cell_type": "markdown",
      "metadata": {
        "id": "b0V3vwzcydKy"
      },
      "source": [
        "1. Write a program to check whether a  string is palindrome or not using functions. \n",
        "\n",
        "   ( A function is to be created to check whether the string is palindrome and it should give the output true or false to the main program)"
      ]
    },
    {
      "cell_type": "code",
      "metadata": {
        "id": "M2Mi7EOdyxiu",
        "outputId": "6a3f5162-e0e3-47bb-d530-881d61f02457",
        "colab": {
          "base_uri": "https://localhost:8080/"
        }
      },
      "source": [
        "#please enter the code below this line.\n",
        "def check(n):\n",
        "  rev=n[::-1]\n",
        "  print(\"String : \",n)\n",
        "  print(\"reverse : \",rev)\n",
        "  if(n==rev):\n",
        "    return True\n",
        "  else:\n",
        "    return False\n",
        " \n",
        "x=input(\"Enter Your String : \")\n",
        "if check(x):\n",
        "  print(\"It's a PALINDROME\")\n",
        "else:\n",
        "  print(\"It's not a PALINDROME.\")"
      ],
      "execution_count": 1,
      "outputs": [
        {
          "output_type": "stream",
          "text": [
            "Enter Your String : MALAYALAM\n",
            "String :  MALAYALAM\n",
            "reverse :  MALAYALAM\n",
            "It's a PALINDROME\n"
          ],
          "name": "stdout"
        }
      ]
    },
    {
      "cell_type": "markdown",
      "metadata": {
        "id": "vSiShTyOzEz-"
      },
      "source": [
        "2.  Write a menu driven program to find largest element in L, smallest element, avg of all values, sum of all values in L. All these operation should be performed in different functions and the result should be returned.\n",
        "\n",
        "\n",
        "      L=[23,24,11,90,1,41,9,99,28,56,72]"
      ]
    },
    {
      "cell_type": "code",
      "metadata": {
        "id": "fRtMIw_CzsmO",
        "outputId": "03483d68-769b-4f86-d99d-d89ba16e08e3",
        "colab": {
          "base_uri": "https://localhost:8080/"
        }
      },
      "source": [
        "#please enter the code below this line.\n",
        "L=[23,24,11,90,1,41,9,99,28,56,72]\n",
        "T = 0\n",
        "D = 0\n",
        "S = L.sort()\n",
        "K = L[0]\n",
        "G = 1\n",
        "M = L[len(L)-G]\n",
        "print(\"The Largest Element in L is \", M)\n",
        "print(\"The smallest Element of list L is \" , K)\n",
        "for i in range(0, len(L)):\n",
        "  T = T + L[i]\n",
        "  A = T%len(L)\n",
        "print(\"The Average of all value in L is \" , A)\n",
        "print(\"The sum of all values of list L is \" , T)"
      ],
      "execution_count": 2,
      "outputs": [
        {
          "output_type": "stream",
          "text": [
            "The Largest Element in L is  99\n",
            "The smallest Element of list L is  1\n",
            "The Average of all value in L is  3\n",
            "The sum of all values of list L is  454\n"
          ],
          "name": "stdout"
        }
      ]
    }
  ]
}