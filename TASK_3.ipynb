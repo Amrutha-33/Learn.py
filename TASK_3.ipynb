{
  "nbformat": 4,
  "nbformat_minor": 0,
  "metadata": {
    "colab": {
      "name": "TASK 3.ipynb",
      "provenance": []
    },
    "kernelspec": {
      "name": "python3",
      "display_name": "Python 3"
    },
    "language_info": {
      "name": "python"
    }
  },
  "cells": [
    {
      "cell_type": "markdown",
      "metadata": {
        "id": "z20IIB0eUQMN"
      },
      "source": [
        "1 - Write a program which takes a number as input from the user and check whether the number is odd or even.If odd print the number is odd if not print it is even."
      ]
    },
    {
      "cell_type": "code",
      "metadata": {
        "id": "dVgGJ-wTVRit",
        "outputId": "82b917c1-a72f-41e3-dc29-1338b5d4a7ba",
        "colab": {
          "base_uri": "https://localhost:8080/"
        }
      },
      "source": [
        "#please enter your answer below this line\n",
        "n = int(input(\"Enter the number \"))\n",
        "if n%2 == 0:\n",
        "  print(\"The number is even\")\n",
        "else:\n",
        "  print(\"The number is odd\")"
      ],
      "execution_count": 1,
      "outputs": [
        {
          "output_type": "stream",
          "text": [
            "Enter the number 5\n",
            "The number is odd\n"
          ],
          "name": "stdout"
        }
      ]
    },
    {
      "cell_type": "markdown",
      "metadata": {
        "id": "7778XD8PVblj"
      },
      "source": [
        "2 -Write a program to find the largest among three numbers and print the largest number."
      ]
    },
    {
      "cell_type": "code",
      "metadata": {
        "id": "m0tUOkOFWR-d",
        "outputId": "bf53ab00-3eed-460b-d16c-d2f53462ef1e",
        "colab": {
          "base_uri": "https://localhost:8080/"
        }
      },
      "source": [
        "#please enter your answer below this line\n",
        "n1 = int(input(\"Enter number1 \"))\n",
        "n2 = int(input(\"Enter number2 \"))\n",
        "n3 = int(input(\"Enter number3 \"))\n",
        "if n1 > n2 and n1 > n3:\n",
        "  print(n1,\"is largest among three\")\n",
        "elif n2 > n1 and n2 >n3:\n",
        "  print(n2,\"is largest among three\")\n",
        "else:\n",
        "  print(n3,\"is largest among three\")\n",
        "\n"
      ],
      "execution_count": 4,
      "outputs": [
        {
          "output_type": "stream",
          "text": [
            "Enter number1 7\n",
            "Enter number2 5\n",
            "Enter number3 1\n",
            "7 is largest among three\n"
          ],
          "name": "stdout"
        }
      ]
    },
    {
      "cell_type": "markdown",
      "metadata": {
        "id": "Jg2Ns4OQWaJy"
      },
      "source": [
        "3 -Write a function to prompt for a score between 0.0 and 1.0.\n",
        "\n",
        "    If the score is out of range, print an error.\n",
        "    If the score is between 0.0 and 1.0, print a grade using the following table:\n",
        "    Score Grade\n",
        "             Score\tGrade\n",
        "            >= 0.9\tA\n",
        "            >= 0.8\tB\n",
        "            >= 0.7\tC\n",
        "            >= 0.6\tD\n",
        "             < 0.6\tF\n",
        "If the user enters a value out of range, print a suitable error message and exit. For the test, enter a score of 0.85."
      ]
    },
    {
      "cell_type": "code",
      "metadata": {
        "id": "6DLbGe6XXZPx",
        "outputId": "fb10bc4d-4e80-40b2-966c-2cfb2fa74500",
        "colab": {
          "base_uri": "https://localhost:8080/"
        }
      },
      "source": [
        "#please enter your answer below this line\n",
        "score = float(input(\"Enter a score \"))\n",
        "if score>0.0 and score<10.0:\n",
        "  if score<0.6:\n",
        "    print(\"Grade F\")\n",
        "  elif score>0.6 and score<0.7:\n",
        "    print(\"Grade D\")\n",
        "  elif score>0.7 and score<0.8:\n",
        "    print(\"Grade C\")\n",
        "  elif score>0.8 and score<0.9:\n",
        "    print(\"Grade B\")\n",
        "  else:\n",
        "    print(\"Grade A\")\n",
        "\n",
        "else:\n",
        "  print(\"Error!!\")\n",
        "  \n"
      ],
      "execution_count": 10,
      "outputs": [
        {
          "output_type": "stream",
          "text": [
            "Enter a score 0.85\n",
            "Grade B\n"
          ],
          "name": "stdout"
        }
      ]
    },
    {
      "cell_type": "markdown",
      "metadata": {
        "id": "-o0scDq7WkVT"
      },
      "source": [
        ""
      ]
    }
  ]
}