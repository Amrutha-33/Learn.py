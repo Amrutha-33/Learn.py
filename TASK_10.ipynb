{
  "nbformat": 4,
  "nbformat_minor": 0,
  "metadata": {
    "colab": {
      "name": "TASK 10.ipynb",
      "provenance": []
    },
    "kernelspec": {
      "name": "python3",
      "display_name": "Python 3"
    },
    "language_info": {
      "name": "python"
    }
  },
  "cells": [
    {
      "cell_type": "markdown",
      "metadata": {
        "id": "VHKxwUewxOi2"
      },
      "source": [
        "1. Generate two  3 x 3 matrix and find it's dot product and take the transpose of the answer."
      ]
    },
    {
      "cell_type": "code",
      "metadata": {
        "id": "RdyKd1CAxZtR",
        "outputId": "a55120f5-8213-483f-ad77-52a1c4444f97",
        "colab": {
          "base_uri": "https://localhost:8080/"
        }
      },
      "source": [
        "#please provide your answer below this line.\n",
        "import numpy as np\n",
        "x = np.random.rand(3,3)\n",
        "y = np.random.rand(3,3)\n",
        " \n",
        "print(x)\n",
        "print(y)\n",
        " \n",
        "a=np.dot(x,y)\n",
        "print(a)\n",
        "a.transpose()"
      ],
      "execution_count": 1,
      "outputs": [
        {
          "output_type": "stream",
          "text": [
            "[[0.05951861 0.82209984 0.34256425]\n",
            " [0.32812262 0.03062988 0.50463608]\n",
            " [0.97840274 0.99371739 0.6700835 ]]\n",
            "[[0.39370209 0.2552185  0.73921646]\n",
            " [0.56082973 0.04546029 0.44250865]\n",
            " [0.16124617 0.82933744 0.11862903]]\n",
            "[[0.5397278  0.33666451 0.44842149]\n",
            " [0.22773135 0.503649   0.31597212]\n",
            " [1.05055386 0.85060649 1.2424713 ]]\n"
          ],
          "name": "stdout"
        },
        {
          "output_type": "execute_result",
          "data": {
            "text/plain": [
              "array([[0.5397278 , 0.22773135, 1.05055386],\n",
              "       [0.33666451, 0.503649  , 0.85060649],\n",
              "       [0.44842149, 0.31597212, 1.2424713 ]])"
            ]
          },
          "metadata": {
            "tags": []
          },
          "execution_count": 1
        }
      ]
    },
    {
      "cell_type": "markdown",
      "metadata": {
        "id": "9c9ZwiBxxf4t"
      },
      "source": [
        "2. Create a 3x3 matrix with elements [55,25,15], [30,44,2], [11,45,77] . Now find the determinant of the given matrix."
      ]
    },
    {
      "cell_type": "code",
      "metadata": {
        "id": "Anmr3C9KyNyy",
        "outputId": "0611bbe3-8843-4b74-cc33-47ff889f145c",
        "colab": {
          "base_uri": "https://localhost:8080/"
        }
      },
      "source": [
        "#please provide your answer below this line.\n",
        "import numpy as np\n",
        "a=[[55,25,15], [30,44,2], [11,45,77]]\n",
        "b=np.array(a)\n",
        "print(b)\n",
        "np.linalg.det(b)"
      ],
      "execution_count": 2,
      "outputs": [
        {
          "output_type": "stream",
          "text": [
            "[[55 25 15]\n",
            " [30 44  2]\n",
            " [11 45 77]]\n"
          ],
          "name": "stdout"
        },
        {
          "output_type": "execute_result",
          "data": {
            "text/plain": [
              "137180.0000000001"
            ]
          },
          "metadata": {
            "tags": []
          },
          "execution_count": 2
        }
      ]
    }
  ]
}