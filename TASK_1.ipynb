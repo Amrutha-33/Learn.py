{
  "nbformat": 4,
  "nbformat_minor": 0,
  "metadata": {
    "colab": {
      "name": "TASK 1",
      "provenance": []
    },
    "kernelspec": {
      "name": "python3",
      "display_name": "Python 3"
    },
    "language_info": {
      "name": "python"
    }
  },
  "cells": [
    {
      "cell_type": "markdown",
      "metadata": {
        "id": "q-yWxfWESiQo"
      },
      "source": [
        "1.Write a program that uses input to prompt a user for their name and then welcomes them."
      ]
    },
    {
      "cell_type": "code",
      "metadata": {
        "id": "9ikpRxqMSxu0",
        "colab": {
          "base_uri": "https://localhost:8080/"
        },
        "outputId": "cfb61ef4-de71-4b25-e9e7-1c17130dcbae"
      },
      "source": [
        "#please provide your answer here below this line\n",
        "a= input(\"Please Enter Your Name: \")\n",
        "print(\"WELCOME\",a)\n"
      ],
      "execution_count": 14,
      "outputs": [
        {
          "output_type": "stream",
          "text": [
            "Please Enter Your Name: Amrutha\n",
            "WELCOME Amrutha\n"
          ],
          "name": "stdout"
        }
      ]
    },
    {
      "cell_type": "markdown",
      "metadata": {
        "id": "Ay5OdxguS-2Z"
      },
      "source": [
        "2.Write a program which prompts the user for a Celsius temperature, convert the temperature to Fahrenheit, and print out the converted temperature."
      ]
    },
    {
      "cell_type": "code",
      "metadata": {
        "id": "MMv2yWNtTgEu",
        "colab": {
          "base_uri": "https://localhost:8080/"
        },
        "outputId": "52b131c5-aa8d-45dc-e7ab-0da75114f7b4"
      },
      "source": [
        "#please provide your answer here below this line\n",
        "c=float(input(\"temperature in celsius scale = \"))\n",
        "a= c*1.8+32\n",
        "print(\"temperature in fahrenheit =\",a)"
      ],
      "execution_count": 7,
      "outputs": [
        {
          "output_type": "stream",
          "text": [
            "temperature in celsius scale = 100\n",
            "temperature in fahrenheit = 212.0\n"
          ],
          "name": "stdout"
        }
      ]
    },
    {
      "cell_type": "markdown",
      "metadata": {
        "id": "v6O1a198TpNd"
      },
      "source": [
        "3.Write a Python program to convert degree to radian."
      ]
    },
    {
      "cell_type": "code",
      "metadata": {
        "id": "27Jj4_D0UQBA",
        "colab": {
          "base_uri": "https://localhost:8080/"
        },
        "outputId": "71f80d8c-812c-4b7c-cf24-b4fc0b0f4fce"
      },
      "source": [
        "#please provide your answer here below this line\n",
        "s=float(input(\"Enter Degree : \"))\n",
        "a=0.0175*s\n",
        "print(\"Result :\",a,\"rad\")"
      ],
      "execution_count": 12,
      "outputs": [
        {
          "output_type": "stream",
          "text": [
            "Enter Degree : 77\n",
            "Result : 1.3475000000000001 rad\n"
          ],
          "name": "stdout"
        }
      ]
    }
  ]
}